{
 "cells": [
  {
   "cell_type": "code",
   "execution_count": 7,
   "metadata": {},
   "outputs": [],
   "source": [
    "import os\n",
    "import pandas as pd\n",
    "\n",
    "# Directory paths\n",
    "raw_data_dir = '/home/vault/empkins/tpD/D02/RCT/raw_data'\n",
    "processed_data_dir = '/home/vault/empkins/tpD/D02/processed_data/SonyCam_processed_data'\n",
    "\n",
    "def find_csv_files(directory, suffix='_app.csv'):\n",
    "    csv_files = []\n",
    "    for root, dirs, files in os.walk(directory):\n",
    "        for file in files:\n",
    "            if file.endswith(suffix):\n",
    "                csv_files.append(os.path.join(root, file))\n",
    "    return csv_files\n",
    "\n",
    "def check_patient_presence(patient_id, directory):\n",
    "    return os.path.exists(os.path.join(directory, patient_id))\n",
    "\n",
    "app_csv_files = find_csv_files(raw_data_dir)\n",
    "app_csv_data = [(os.path.basename(file).split('_')[0], file) for file in app_csv_files]\n",
    "app_df = pd.DataFrame(app_csv_data, columns=['Patient ID', 'App CSV Path'])\n",
    "\n",
    "app_df['Presence'] = app_df['Patient ID'].apply(lambda x: check_patient_presence(x, processed_data_dir))\n",
    "\n",
    "def find_facemo_csv_files(patient_id, directory):\n",
    "    patient_dir = os.path.join(directory, patient_id)\n",
    "    \n",
    "    for root, dirs, files in os.walk(patient_dir):\n",
    "        for dir_name in dirs:\n",
    "            if '_t2_' in dir_name:\n",
    "                facemo_csv_dir = os.path.join(patient_dir, 'raw_variables', dir_name, 'facial', 'face_au')\n",
    "                facemo_csv_files = find_csv_files(facemo_csv_dir, suffix='_facau.csv')\n",
    "                if facemo_csv_files:\n",
    "                    return facemo_csv_files[0]  # Return the first matching file\n",
    "    return None  # Return None if no '_facemo.csv' file is found\n",
    "\n",
    "facemo_csv_data = [(patient_id, find_facemo_csv_files(patient_id, processed_data_dir)) for patient_id in app_df['Patient ID']]\n",
    "facemo_df = pd.DataFrame(facemo_csv_data, columns=['Patient ID', 'Facemo CSV Path'])\n",
    "\n",
    "facemo_df['Presence'] = facemo_df['Facemo CSV Path'].notnull()\n",
    "\n",
    "final_df = pd.merge(app_df, facemo_df, on='Patient ID', how='outer')"
   ]
  },
  {
   "cell_type": "code",
   "execution_count": 8,
   "metadata": {},
   "outputs": [],
   "source": [
    "final_df.to_csv('patient_id_paths_au.csv', index=False)"
   ]
  },
  {
   "cell_type": "code",
   "execution_count": null,
   "metadata": {},
   "outputs": [],
   "source": []
  },
  {
   "cell_type": "code",
   "execution_count": null,
   "metadata": {},
   "outputs": [],
   "source": []
  },
  {
   "cell_type": "code",
   "execution_count": null,
   "metadata": {},
   "outputs": [],
   "source": []
  },
  {
   "cell_type": "code",
   "execution_count": null,
   "metadata": {},
   "outputs": [],
   "source": []
  },
  {
   "cell_type": "code",
   "execution_count": null,
   "metadata": {},
   "outputs": [],
   "source": []
  },
  {
   "cell_type": "code",
   "execution_count": null,
   "metadata": {},
   "outputs": [],
   "source": []
  },
  {
   "cell_type": "code",
   "execution_count": null,
   "metadata": {},
   "outputs": [],
   "source": []
  },
  {
   "cell_type": "code",
   "execution_count": null,
   "metadata": {},
   "outputs": [],
   "source": []
  }
 ],
 "metadata": {
  "kernelspec": {
   "display_name": ".venv",
   "language": "python",
   "name": "python3"
  },
  "language_info": {
   "codemirror_mode": {
    "name": "ipython",
    "version": 3
   },
   "file_extension": ".py",
   "mimetype": "text/x-python",
   "name": "python",
   "nbconvert_exporter": "python",
   "pygments_lexer": "ipython3",
   "version": "3.11.5"
  }
 },
 "nbformat": 4,
 "nbformat_minor": 2
}
