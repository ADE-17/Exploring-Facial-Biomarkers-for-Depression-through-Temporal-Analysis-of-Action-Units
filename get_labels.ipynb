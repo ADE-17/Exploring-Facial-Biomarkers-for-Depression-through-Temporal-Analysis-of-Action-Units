{
 "cells": [
  {
   "cell_type": "code",
   "execution_count": 8,
   "metadata": {},
   "outputs": [
    {
     "name": "stdout",
     "output_type": "stream",
     "text": [
      "Healthy dataset missing IDs: 46\n",
      "Depressive dataset missing IDs: 40\n",
      "Sub-clinical dataset missing IDs: 0\n"
     ]
    }
   ],
   "source": [
    "import pandas as pd\n",
    "\n",
    "h_label_df = pd.read_excel('participants_list.xlsx', sheet_name='Randomisierung Gesund')\n",
    "d_label_df_depressiv = pd.read_excel('participants_list.xlsx', sheet_name='Randomisierung Depressiv')\n",
    "d_label_df_subklinisch = pd.read_excel('participants_list.xlsx', sheet_name='Randomisierung Sub-klinisch')\n",
    "\n",
    "h_label_df['Label'] = 0\n",
    "d_label_df_depressiv['Label'] = 1\n",
    "d_label_df_subklinisch['Label'] = 0.5\n",
    "\n",
    "h_label_df = h_label_df[['Laufende Nummer S(creening)', 'Label']].rename(columns={'Laufende Nummer S(creening)': 'Participant ID'})\n",
    "d_label_df_depressiv = d_label_df_depressiv[['Laufende Nummer S(creening)', 'Label']].rename(columns={'Laufende Nummer S(creening)': 'Participant ID'})\n",
    "d_label_df_subklinisch = d_label_df_subklinisch[['Laufende Nummer S(creening)', 'Label']].rename(columns={'Laufende Nummer S(creening)': 'Participant ID'})\n",
    "\n",
    "print(\"Healthy dataset missing IDs:\", h_label_df['Participant ID'].isna().sum())\n",
    "print(\"Depressive dataset missing IDs:\", d_label_df_depressiv['Participant ID'].isna().sum())\n",
    "print(\"Sub-clinical dataset missing IDs:\", d_label_df_subklinisch['Participant ID'].isna().sum())\n",
    "\n",
    "h_label_df = h_label_df.dropna(subset=['Participant ID'])\n",
    "d_label_df_depressiv = d_label_df_depressiv.dropna(subset=['Participant ID'])\n",
    "d_label_df_subklinisch = d_label_df_subklinisch.dropna(subset=['Participant ID'])\n",
    "\n",
    "# h_label_df['Participant ID'].fillna(0, inplace=True)\n",
    "# d_label_df_depressiv['Participant ID'].fillna(0, inplace=True)\n",
    "# d_label_df_subklinisch['Participant ID'].fillna(0, inplace=True)\n",
    "\n",
    "h_label_df['Participant ID'] = h_label_df['Participant ID'].astype(int)\n",
    "d_label_df_depressiv['Participant ID'] = d_label_df_depressiv['Participant ID'].astype(int)\n",
    "d_label_df_subklinisch['Participant ID'] = d_label_df_subklinisch['Participant ID'].astype(int)\n",
    "\n",
    "combined_df = pd.concat([h_label_df, d_label_df_depressiv, d_label_df_subklinisch])\n",
    "\n",
    "combined_df.reset_index(drop=True, inplace=True)\n",
    "\n",
    "combined_df.to_excel('combined_participants_labels.xlsx', index=False)\n",
    "\n",
    "# Display the combined dataframe\n",
    "# print(combined_df.head())\n"
   ]
  },
  {
   "cell_type": "code",
   "execution_count": 14,
   "metadata": {},
   "outputs": [],
   "source": [
    "combined_df.to_csv('labels.csv', index=False)"
   ]
  },
  {
   "cell_type": "code",
   "execution_count": null,
   "metadata": {},
   "outputs": [],
   "source": []
  },
  {
   "cell_type": "code",
   "execution_count": null,
   "metadata": {},
   "outputs": [],
   "source": []
  },
  {
   "cell_type": "code",
   "execution_count": null,
   "metadata": {},
   "outputs": [],
   "source": []
  },
  {
   "cell_type": "code",
   "execution_count": null,
   "metadata": {},
   "outputs": [],
   "source": []
  }
 ],
 "metadata": {
  "kernelspec": {
   "display_name": "empkins",
   "language": "python",
   "name": "python3"
  },
  "language_info": {
   "codemirror_mode": {
    "name": "ipython",
    "version": 3
   },
   "file_extension": ".py",
   "mimetype": "text/x-python",
   "name": "python",
   "nbconvert_exporter": "python",
   "pygments_lexer": "ipython3",
   "version": "3.11.5"
  }
 },
 "nbformat": 4,
 "nbformat_minor": 2
}
