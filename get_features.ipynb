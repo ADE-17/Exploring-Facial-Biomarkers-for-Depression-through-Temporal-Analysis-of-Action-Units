{
 "cells": [
  {
   "cell_type": "code",
   "execution_count": 29,
   "metadata": {},
   "outputs": [],
   "source": [
    "import pandas as pd\n",
    "import matplotlib.pyplot as plt \n",
    "import seaborn as sns\n",
    "import numpy as np\n",
    "import os"
   ]
  },
  {
   "cell_type": "code",
   "execution_count": 81,
   "metadata": {},
   "outputs": [],
   "source": [
    "data_id = ['004', '005', '007', '013']\n",
    "selected_features = ['Patient ID','fac_AU01int_mean', 'fac_AU01int_std', 'fac_AU02int_mean',\n",
    "       'fac_AU02int_std', 'fac_AU04int_mean', 'fac_AU04int_std',\n",
    "       'fac_AU05int_mean', 'fac_AU05int_std', 'fac_AU06int_mean',\n",
    "       'fac_AU06int_std', 'fac_AU07int_mean', 'fac_AU07int_std',\n",
    "       'fac_AU09int_mean', 'fac_AU09int_std', 'fac_AU10int_mean',\n",
    "       'fac_AU10int_std', 'fac_AU12int_mean', 'fac_AU12int_std',\n",
    "       'fac_AU14int_mean', 'fac_AU14int_std', 'fac_AU15int_mean',\n",
    "       'fac_AU15int_std', 'fac_AU17int_mean', 'fac_AU17int_std',\n",
    "       'fac_AU20int_mean', 'fac_AU20int_std', 'fac_AU23int_mean',\n",
    "       'fac_AU23int_std', 'fac_AU25int_mean', 'fac_AU25int_std',\n",
    "       'fac_AU26int_mean', 'fac_AU26int_std', 'fac_AU45int_mean',\n",
    "       'fac_AU45int_std']"
   ]
  },
  {
   "cell_type": "code",
   "execution_count": 82,
   "metadata": {},
   "outputs": [],
   "source": [
    "base_directory = '/home/vault/empkins/tpD/D02/processed_data/SonyCam_processed_data/'\n",
    "\n",
    "dataframes = []\n",
    "\n",
    "def scan_derived_variables(directory, patient_id):\n",
    "    derived_variables_directory = os.path.join(directory, 'derived_variables')\n",
    "    if os.path.exists(derived_variables_directory):\n",
    "        for item in os.listdir(derived_variables_directory):\n",
    "            item_path = os.path.join(derived_variables_directory, item)\n",
    "            if os.path.isfile(item_path) and item.endswith('.csv'):\n",
    "                try:\n",
    "                    df = pd.read_csv(item_path)\n",
    "                    df['Patient ID'] = patient_id\n",
    "                    dataframes.append(df[selected_features])\n",
    "                except FileNotFoundError:\n",
    "                    print(f\"CSV file not found: {item_path}\")\n",
    "    else:\n",
    "        print(f\"Directory 'derived_variables' not found in: {directory}\")\n",
    "\n",
    "def scan_patients(directory):\n",
    "    for item in os.listdir(directory):\n",
    "        item_path = os.path.join(directory, item)\n",
    "        if os.path.isdir(item_path):\n",
    "            scan_patients(item_path)\n",
    "            if item == 'derived_variables':\n",
    "                patient_id = os.path.basename(os.path.normpath(directory))\n",
    "                scan_derived_variables(directory, patient_id)\n",
    "\n",
    "def read_csv_for_all_patients():\n",
    "    scan_patients(base_directory)\n",
    "\n",
    "read_csv_for_all_patients()"
   ]
  },
  {
   "cell_type": "code",
   "execution_count": 83,
   "metadata": {},
   "outputs": [
    {
     "data": {
      "text/html": [
       "<div>\n",
       "<style scoped>\n",
       "    .dataframe tbody tr th:only-of-type {\n",
       "        vertical-align: middle;\n",
       "    }\n",
       "\n",
       "    .dataframe tbody tr th {\n",
       "        vertical-align: top;\n",
       "    }\n",
       "\n",
       "    .dataframe thead th {\n",
       "        text-align: right;\n",
       "    }\n",
       "</style>\n",
       "<table border=\"1\" class=\"dataframe\">\n",
       "  <thead>\n",
       "    <tr style=\"text-align: right;\">\n",
       "      <th></th>\n",
       "      <th>Patient ID</th>\n",
       "      <th>fac_AU01int_mean</th>\n",
       "      <th>fac_AU01int_std</th>\n",
       "      <th>fac_AU02int_mean</th>\n",
       "      <th>fac_AU02int_std</th>\n",
       "      <th>fac_AU04int_mean</th>\n",
       "      <th>fac_AU04int_std</th>\n",
       "      <th>fac_AU05int_mean</th>\n",
       "      <th>fac_AU05int_std</th>\n",
       "      <th>fac_AU06int_mean</th>\n",
       "      <th>...</th>\n",
       "      <th>fac_AU20int_mean</th>\n",
       "      <th>fac_AU20int_std</th>\n",
       "      <th>fac_AU23int_mean</th>\n",
       "      <th>fac_AU23int_std</th>\n",
       "      <th>fac_AU25int_mean</th>\n",
       "      <th>fac_AU25int_std</th>\n",
       "      <th>fac_AU26int_mean</th>\n",
       "      <th>fac_AU26int_std</th>\n",
       "      <th>fac_AU45int_mean</th>\n",
       "      <th>fac_AU45int_std</th>\n",
       "    </tr>\n",
       "  </thead>\n",
       "  <tbody>\n",
       "    <tr>\n",
       "      <th>0</th>\n",
       "      <td>159</td>\n",
       "      <td>0.1674</td>\n",
       "      <td>0.3277</td>\n",
       "      <td>0.0945</td>\n",
       "      <td>0.2667</td>\n",
       "      <td>0.0055</td>\n",
       "      <td>0.0506</td>\n",
       "      <td>0.1033</td>\n",
       "      <td>0.3312</td>\n",
       "      <td>0.1275</td>\n",
       "      <td>...</td>\n",
       "      <td>0.165</td>\n",
       "      <td>0.4503</td>\n",
       "      <td>0.1189</td>\n",
       "      <td>0.2898</td>\n",
       "      <td>0.4128</td>\n",
       "      <td>0.6766</td>\n",
       "      <td>0.3211</td>\n",
       "      <td>0.4024</td>\n",
       "      <td>0.3015</td>\n",
       "      <td>0.5966</td>\n",
       "    </tr>\n",
       "  </tbody>\n",
       "</table>\n",
       "<p>1 rows × 35 columns</p>\n",
       "</div>"
      ],
      "text/plain": [
       "  Patient ID  fac_AU01int_mean  fac_AU01int_std  fac_AU02int_mean  \\\n",
       "0        159            0.1674           0.3277            0.0945   \n",
       "\n",
       "   fac_AU02int_std  fac_AU04int_mean  fac_AU04int_std  fac_AU05int_mean  \\\n",
       "0           0.2667            0.0055           0.0506            0.1033   \n",
       "\n",
       "   fac_AU05int_std  fac_AU06int_mean  ...  fac_AU20int_mean  fac_AU20int_std  \\\n",
       "0           0.3312            0.1275  ...             0.165           0.4503   \n",
       "\n",
       "   fac_AU23int_mean  fac_AU23int_std  fac_AU25int_mean  fac_AU25int_std  \\\n",
       "0            0.1189           0.2898            0.4128           0.6766   \n",
       "\n",
       "   fac_AU26int_mean  fac_AU26int_std  fac_AU45int_mean  fac_AU45int_std  \n",
       "0            0.3211           0.4024            0.3015           0.5966  \n",
       "\n",
       "[1 rows x 35 columns]"
      ]
     },
     "execution_count": 83,
     "metadata": {},
     "output_type": "execute_result"
    }
   ],
   "source": [
    "dataframes[111]"
   ]
  },
  {
   "cell_type": "code",
   "execution_count": 48,
   "metadata": {},
   "outputs": [],
   "source": [
    "# data[selected_features].describe()"
   ]
  },
  {
   "cell_type": "code",
   "execution_count": 28,
   "metadata": {},
   "outputs": [],
   "source": [
    "# subset_df = data[selected_features]\n",
    "\n",
    "# statistical_features = subset_df.drop(columns=[' timestamp']).agg(['mean', 'median', 'std'])\n",
    "\n",
    "# interaction_features = pd.DataFrame()\n",
    "# for i in range(len(selected_features)):\n",
    "#     for j in range(i + 1, len(selected_features)):\n",
    "#         interaction_features[selected_features[i] + '*' + selected_features[j]] = subset_df[selected_features[i]] * subset_df[selected_features[j]]\n",
    "\n",
    "# rolling_mean = subset_df.drop(columns=[' timestamp']).rolling(window=10, min_periods=1).mean()\n",
    "# rolling_std = subset_df.drop(columns=[' timestamp']).rolling(window=10, min_periods=1).std()\n",
    "\n",
    "# engineered_features = pd.concat([statistical_features, interaction_features, rolling_mean, rolling_std], axis=1)\n",
    "\n",
    "# engineered_features = engineered_features.T\n",
    "\n",
    "# print(engineered_features)"
   ]
  },
  {
   "cell_type": "code",
   "execution_count": 58,
   "metadata": {},
   "outputs": [
    {
     "data": {
      "text/html": [
       "<div>\n",
       "<style scoped>\n",
       "    .dataframe tbody tr th:only-of-type {\n",
       "        vertical-align: middle;\n",
       "    }\n",
       "\n",
       "    .dataframe tbody tr th {\n",
       "        vertical-align: top;\n",
       "    }\n",
       "\n",
       "    .dataframe thead th {\n",
       "        text-align: right;\n",
       "    }\n",
       "</style>\n",
       "<table border=\"1\" class=\"dataframe\">\n",
       "  <thead>\n",
       "    <tr style=\"text-align: right;\">\n",
       "      <th></th>\n",
       "      <th>fac_AU01int_mean</th>\n",
       "      <th>fac_AU01int_std</th>\n",
       "      <th>fac_AU02int_mean</th>\n",
       "      <th>fac_AU02int_std</th>\n",
       "      <th>fac_AU04int_mean</th>\n",
       "      <th>fac_AU04int_std</th>\n",
       "      <th>fac_AU05int_mean</th>\n",
       "      <th>fac_AU05int_std</th>\n",
       "      <th>fac_AU06int_mean</th>\n",
       "      <th>fac_AU06int_std</th>\n",
       "      <th>...</th>\n",
       "      <th>fac_AU20int_mean</th>\n",
       "      <th>fac_AU20int_std</th>\n",
       "      <th>fac_AU23int_mean</th>\n",
       "      <th>fac_AU23int_std</th>\n",
       "      <th>fac_AU25int_mean</th>\n",
       "      <th>fac_AU25int_std</th>\n",
       "      <th>fac_AU26int_mean</th>\n",
       "      <th>fac_AU26int_std</th>\n",
       "      <th>fac_AU45int_mean</th>\n",
       "      <th>fac_AU45int_std</th>\n",
       "    </tr>\n",
       "  </thead>\n",
       "  <tbody>\n",
       "    <tr>\n",
       "      <th>0</th>\n",
       "      <td>0.3014</td>\n",
       "      <td>0.5147</td>\n",
       "      <td>0.1386</td>\n",
       "      <td>0.3352</td>\n",
       "      <td>0.3243</td>\n",
       "      <td>0.4564</td>\n",
       "      <td>0.2077</td>\n",
       "      <td>0.6063</td>\n",
       "      <td>0.113</td>\n",
       "      <td>0.2842</td>\n",
       "      <td>...</td>\n",
       "      <td>0.1581</td>\n",
       "      <td>0.3427</td>\n",
       "      <td>0.1696</td>\n",
       "      <td>0.3535</td>\n",
       "      <td>0.6187</td>\n",
       "      <td>0.7637</td>\n",
       "      <td>0.4864</td>\n",
       "      <td>0.5107</td>\n",
       "      <td>0.25</td>\n",
       "      <td>0.434</td>\n",
       "    </tr>\n",
       "  </tbody>\n",
       "</table>\n",
       "<p>1 rows × 34 columns</p>\n",
       "</div>"
      ],
      "text/plain": [
       "   fac_AU01int_mean  fac_AU01int_std  fac_AU02int_mean  fac_AU02int_std  \\\n",
       "0            0.3014           0.5147            0.1386           0.3352   \n",
       "\n",
       "   fac_AU04int_mean  fac_AU04int_std  fac_AU05int_mean  fac_AU05int_std  \\\n",
       "0            0.3243           0.4564            0.2077           0.6063   \n",
       "\n",
       "   fac_AU06int_mean  fac_AU06int_std  ...  fac_AU20int_mean  fac_AU20int_std  \\\n",
       "0             0.113           0.2842  ...            0.1581           0.3427   \n",
       "\n",
       "   fac_AU23int_mean  fac_AU23int_std  fac_AU25int_mean  fac_AU25int_std  \\\n",
       "0            0.1696           0.3535            0.6187           0.7637   \n",
       "\n",
       "   fac_AU26int_mean  fac_AU26int_std  fac_AU45int_mean  fac_AU45int_std  \n",
       "0            0.4864           0.5107              0.25            0.434  \n",
       "\n",
       "[1 rows x 34 columns]"
      ]
     },
     "execution_count": 58,
     "metadata": {},
     "output_type": "execute_result"
    }
   ],
   "source": [
    "dataframes[0]"
   ]
  },
  {
   "cell_type": "code",
   "execution_count": null,
   "metadata": {},
   "outputs": [],
   "source": []
  },
  {
   "cell_type": "code",
   "execution_count": null,
   "metadata": {},
   "outputs": [],
   "source": []
  },
  {
   "cell_type": "code",
   "execution_count": null,
   "metadata": {},
   "outputs": [],
   "source": []
  },
  {
   "cell_type": "code",
   "execution_count": null,
   "metadata": {},
   "outputs": [],
   "source": []
  },
  {
   "cell_type": "code",
   "execution_count": null,
   "metadata": {},
   "outputs": [],
   "source": []
  },
  {
   "cell_type": "code",
   "execution_count": null,
   "metadata": {},
   "outputs": [],
   "source": []
  },
  {
   "cell_type": "code",
   "execution_count": null,
   "metadata": {},
   "outputs": [],
   "source": []
  },
  {
   "cell_type": "code",
   "execution_count": null,
   "metadata": {},
   "outputs": [],
   "source": []
  },
  {
   "cell_type": "code",
   "execution_count": null,
   "metadata": {},
   "outputs": [],
   "source": []
  },
  {
   "cell_type": "code",
   "execution_count": null,
   "metadata": {},
   "outputs": [],
   "source": []
  },
  {
   "cell_type": "code",
   "execution_count": null,
   "metadata": {},
   "outputs": [],
   "source": []
  },
  {
   "cell_type": "code",
   "execution_count": null,
   "metadata": {},
   "outputs": [],
   "source": []
  },
  {
   "cell_type": "code",
   "execution_count": null,
   "metadata": {},
   "outputs": [],
   "source": []
  },
  {
   "cell_type": "code",
   "execution_count": null,
   "metadata": {},
   "outputs": [],
   "source": []
  },
  {
   "cell_type": "code",
   "execution_count": null,
   "metadata": {},
   "outputs": [],
   "source": []
  },
  {
   "cell_type": "code",
   "execution_count": null,
   "metadata": {},
   "outputs": [],
   "source": []
  },
  {
   "cell_type": "code",
   "execution_count": null,
   "metadata": {},
   "outputs": [],
   "source": []
  },
  {
   "cell_type": "code",
   "execution_count": null,
   "metadata": {},
   "outputs": [],
   "source": []
  }
 ],
 "metadata": {
  "kernelspec": {
   "display_name": ".venv",
   "language": "python",
   "name": "python3"
  },
  "language_info": {
   "codemirror_mode": {
    "name": "ipython",
    "version": 3
   },
   "file_extension": ".py",
   "mimetype": "text/x-python",
   "name": "python",
   "nbconvert_exporter": "python",
   "pygments_lexer": "ipython3",
   "version": "3.11.5"
  }
 },
 "nbformat": 4,
 "nbformat_minor": 2
}
