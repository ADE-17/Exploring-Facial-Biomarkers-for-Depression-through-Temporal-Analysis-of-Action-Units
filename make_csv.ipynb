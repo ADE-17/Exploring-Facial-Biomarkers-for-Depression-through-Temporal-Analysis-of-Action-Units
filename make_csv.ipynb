{
 "cells": [
  {
   "cell_type": "code",
   "execution_count": 1,
   "metadata": {},
   "outputs": [
    {
     "name": "stdout",
     "output_type": "stream",
     "text": [
      "    Patient_ID                                           MP4_Path  File_Exists\n",
      "0          338  /home/vault/empkins/tpD/D02/RCT/raw_data/338/3...         True\n",
      "1          263  /home/vault/empkins/tpD/D02/RCT/raw_data/263/2...         True\n",
      "2          251  /home/vault/empkins/tpD/D02/RCT/raw_data/251/2...         True\n",
      "3          439  /home/vault/empkins/tpD/D02/RCT/raw_data/439/4...         True\n",
      "4          310  /home/vault/empkins/tpD/D02/RCT/raw_data/310/3...         True\n",
      "..         ...                                                ...          ...\n",
      "150        287  /home/vault/empkins/tpD/D02/RCT/raw_data/287/2...         True\n",
      "151        120  /home/vault/empkins/tpD/D02/RCT/raw_data/120/1...         True\n",
      "152        308  /home/vault/empkins/tpD/D02/RCT/raw_data/308/3...         True\n",
      "153        162  /home/vault/empkins/tpD/D02/RCT/raw_data/162/1...         True\n",
      "154        221  /home/vault/empkins/tpD/D02/RCT/raw_data/221/2...         True\n",
      "\n",
      "[155 rows x 3 columns]\n"
     ]
    }
   ],
   "source": [
    "import os\n",
    "import re\n",
    "import pandas as pd\n",
    "\n",
    "main_dir = '/home/vault/empkins/tpD/D02/RCT/raw_data'\n",
    "\n",
    "patient_ids = []\n",
    "mp4_paths = []\n",
    "file_existence = []\n",
    "\n",
    "filename_pattern = re.compile(r'(\\w+)_t2_')\n",
    "\n",
    "for root, dirs, files in os.walk(main_dir):\n",
    "    if root == main_dir:  \n",
    "        for patient_id in dirs:\n",
    "            patient_folder = os.path.join(root, patient_id)\n",
    "\n",
    "            mp4_files = [file for file in os.listdir(patient_folder) if file.endswith('.mp4')]\n",
    "\n",
    "            for mp4_file in mp4_files:\n",
    "                match = filename_pattern.match(mp4_file)\n",
    "                if match:\n",
    "                    patient_ids.append(patient_id)\n",
    "                    mp4_paths.append(os.path.join(patient_folder, mp4_file))\n",
    "                    file_existence.append(True)\n",
    "                    break  \n",
    "\n",
    "            if not any(match for match in filename_pattern.findall(' '.join(mp4_files))):\n",
    "                patient_ids.append(patient_id)\n",
    "                mp4_paths.append(None)\n",
    "                file_existence.append(False)\n",
    "\n",
    "data = {\n",
    "    'Patient_ID': patient_ids,\n",
    "    'MP4_Path': mp4_paths,\n",
    "    'File_Exists': file_existence\n",
    "}\n",
    "\n",
    "df = pd.DataFrame(data)\n",
    "\n",
    "print(df)"
   ]
  },
  {
   "cell_type": "code",
   "execution_count": 2,
   "metadata": {},
   "outputs": [],
   "source": [
    "df.to_csv('/home/vault/empkins/tpD/D02/processed_data/sonycam_videos_dir2.csv')"
   ]
  },
  {
   "cell_type": "code",
   "execution_count": 44,
   "metadata": {},
   "outputs": [
    {
     "name": "stdout",
     "output_type": "stream",
     "text": [
      "Command executed successfully for patient ID: 251\n",
      "Command executed successfully for patient ID: 251\n"
     ]
    },
    {
     "name": "stderr",
     "output_type": "stream",
     "text": [
      "Traceback (most recent call last):\n",
      "  File \"/app/process_data.py\", line 17, in <module>\n",
      "    from opendbm.dbm_lib import config_derive_feature, config_raw_feature, config_reader\n",
      "  File \"/app/opendbm/__init__.py\", line 1, in <module>\n",
      "    from opendbm.api_lib.facial_activity import FacialActivity\n",
      "  File \"/app/opendbm/api_lib/__init__.py\", line 1, in <module>\n",
      "    from .model import DEEEPSPEECH_URL, DEEPSPEECH_MODELS, OPENDBM_DATA, AudioModel\n",
      "  File \"/app/opendbm/api_lib/model.py\", line 7, in <module>\n",
      "    from opendbm.api_lib.util import docker_command_dec, wsllize\n",
      "  File \"/app/opendbm/api_lib/util.py\", line 11, in <module>\n",
      "    from opendbm.dbm_lib.controller import process_feature as pf\n",
      "  File \"/app/opendbm/dbm_lib/__init__.py\", line 16, in <module>\n",
      "    from .dbm_features.raw_features.nlp.speech_features import run_speech_feature\n",
      "  File \"/app/opendbm/dbm_lib/dbm_features/raw_features/nlp/__init__.py\", line 1, in <module>\n",
      "    from .speech_features import run_speech_feature\n",
      "  File \"/app/opendbm/dbm_lib/dbm_features/raw_features/nlp/speech_features.py\", line 15, in <module>\n",
      "    from opendbm.dbm_lib.dbm_features.raw_features.util import nlp_util as n_util\n",
      "  File \"/app/opendbm/dbm_lib/dbm_features/raw_features/util/nlp_util.py\", line 16, in <module>\n",
      "    from lexicalrichness import LexicalRichness\n",
      "  File \"/usr/local/lib/python3.6/dist-packages/lexicalrichness/__init__.py\", line 10, in <module>\n",
      "    from .lexicalrichness import *\n",
      "  File \"/usr/local/lib/python3.6/dist-packages/lexicalrichness/lexicalrichness.py\", line 15, in <module>\n",
      "    import matplotlib.pyplot as plt\n",
      "  File \"/usr/local/lib/python3.6/dist-packages/matplotlib/pyplot.py\", line 2336, in <module>\n",
      "    switch_backend(rcParams[\"backend\"])\n",
      "  File \"/usr/local/lib/python3.6/dist-packages/matplotlib/pyplot.py\", line 276, in switch_backend\n",
      "    class backend_mod(matplotlib.backend_bases._Backend):\n",
      "  File \"/usr/local/lib/python3.6/dist-packages/matplotlib/pyplot.py\", line 277, in backend_mod\n",
      "    locals().update(vars(importlib.import_module(backend_name)))\n",
      "  File \"/usr/lib/python3.6/importlib/__init__.py\", line 126, in import_module\n",
      "    return _bootstrap._gcd_import(name[level:], package, level)\n",
      "ModuleNotFoundError: No module named 'matplotlib_inline'\n"
     ]
    },
    {
     "name": "stdout",
     "output_type": "stream",
     "text": [
      "Command execution failed for patient ID: 251. Error: Command 'apptainer exec --writable-tmpfs /home/vault/empkins/tpD/D02/processed_data/SonyCam_processed_data/dbm-openface-2.sif /bin/bash -c \"cd /app; python3 -W ignore /app/process_data.py --input_path /home/vault/empkins/tpD/D02/RCT/raw_data/251/251_t2_20230911.mp4 --output_path /home/vault/empkins/tpD/D02/processed_data/SonyCam_processed_data/251\"' returned non-zero exit status 1.\n"
     ]
    }
   ],
   "source": [
    "import subprocess\n",
    "\n",
    "target_folder = '/home/vault/empkins/tpD/D02/processed_data/SonyCam_processed_data'\n",
    "\n",
    "\n",
    "def execute_command(command, patient_id):\n",
    "    try:\n",
    "        subprocess.run(command, shell=True, check=True)\n",
    "        print(f\"Command executed successfully for patient ID: {patient_id}\")\n",
    "    except subprocess.CalledProcessError as e:\n",
    "        print(f\"Command execution failed for patient ID: {patient_id}. Error: {e}\")\n",
    "\n",
    "for index, row in df[df['File_Exists']].iterrows():\n",
    "    patient_id = row['Patient_ID']\n",
    "    mp4_path = row['MP4_Path']\n",
    "    \n",
    "    input_path = mp4_path  \n",
    "    output_folder = os.path.join(target_folder, patient_id)\n",
    "    os.makedirs(output_folder, exist_ok=True)\n",
    "    output_path = os.path.join(output_folder)  \n",
    "    \n",
    "    command_1 = \"export https_proxy=http://proxy:80\"\n",
    "    execute_command(command_1, patient_id)\n",
    "\n",
    "    command_2 = \"export http_proxy=http://proxy:80\"\n",
    "    execute_command(command_2, patient_id)\n",
    "    \n",
    "    command_3 = f'apptainer exec --writable-tmpfs /home/vault/empkins/tpD/D02/processed_data/SonyCam_processed_data/dbm-openface-2.sif /bin/bash -c \"cd /app; python3 -W ignore /app/process_data.py --input_path {input_path} --output_path {output_path}\"'\n",
    "    execute_command(command_3, patient_id)"
   ]
  },
  {
   "cell_type": "code",
   "execution_count": 43,
   "metadata": {},
   "outputs": [
    {
     "data": {
      "text/plain": [
       "['.privtmp']"
      ]
     },
     "execution_count": 43,
     "metadata": {},
     "output_type": "execute_result"
    }
   ],
   "source": [
    "os.listdir('/scratch/')"
   ]
  },
  {
   "cell_type": "code",
   "execution_count": null,
   "metadata": {},
   "outputs": [],
   "source": [
    "/home/vault/empkins/tpD/D02/RCT/open_face_processed_data/147"
   ]
  },
  {
   "cell_type": "code",
   "execution_count": 4,
   "metadata": {},
   "outputs": [
    {
     "name": "stdout",
     "output_type": "stream",
     "text": [
      "Folders missing in dir2:\n"
     ]
    }
   ],
   "source": [
    "import os\n",
    "\n",
    "def list_missing_folders(dir1, dir2):\n",
    "    # Get list of folders in dir1\n",
    "    folders1 = set(next(os.walk(dir1))[1])\n",
    "    \n",
    "    # Get list of folders in dir2\n",
    "    folders2 = set(next(os.walk(dir2))[1])\n",
    "    \n",
    "    # Find folders in dir1 but not in dir2\n",
    "    missing_folders = folders1 - folders2\n",
    "    \n",
    "    return missing_folders\n",
    "\n",
    "# Provide paths to the two directories\n",
    "dir1_path = \"/home/vault/empkins/tpD/D02/RCT/raw_data\"\n",
    "dir2_path = \"/home/vault/empkins/tpD/D02/processed_data/SonyCam_processed_data\"\n",
    "\n",
    "missing_folders = list_missing_folders(dir1_path, dir2_path)\n",
    "print(\"Folders missing in dir2:\")"
   ]
  },
  {
   "cell_type": "code",
   "execution_count": 6,
   "metadata": {},
   "outputs": [
    {
     "data": {
      "text/plain": [
       "41"
      ]
     },
     "execution_count": 6,
     "metadata": {},
     "output_type": "execute_result"
    }
   ],
   "source": [
    "len(missing_folders)"
   ]
  },
  {
   "cell_type": "code",
   "execution_count": 10,
   "metadata": {},
   "outputs": [
    {
     "data": {
      "text/plain": [
       "{'008',\n",
       " '044',\n",
       " '093',\n",
       " '120',\n",
       " '131',\n",
       " '146',\n",
       " '151',\n",
       " '162',\n",
       " '221',\n",
       " '241',\n",
       " '263',\n",
       " '306',\n",
       " '316',\n",
       " '321',\n",
       " '325',\n",
       " '327',\n",
       " '337',\n",
       " '338',\n",
       " '385',\n",
       " '403',\n",
       " '418',\n",
       " '430',\n",
       " '438',\n",
       " '439',\n",
       " '444',\n",
       " '447',\n",
       " '453',\n",
       " '459',\n",
       " '460',\n",
       " '467',\n",
       " '469',\n",
       " '471',\n",
       " '472',\n",
       " '476',\n",
       " '482',\n",
       " '507',\n",
       " '512',\n",
       " '516',\n",
       " '518',\n",
       " '559',\n",
       " 'Radar_DB'}"
      ]
     },
     "execution_count": 10,
     "metadata": {},
     "output_type": "execute_result"
    }
   ],
   "source": [
    "missing_folders"
   ]
  },
  {
   "cell_type": "code",
   "execution_count": null,
   "metadata": {},
   "outputs": [],
   "source": []
  },
  {
   "cell_type": "code",
   "execution_count": null,
   "metadata": {},
   "outputs": [],
   "source": []
  },
  {
   "cell_type": "code",
   "execution_count": null,
   "metadata": {},
   "outputs": [],
   "source": []
  },
  {
   "cell_type": "code",
   "execution_count": null,
   "metadata": {},
   "outputs": [],
   "source": []
  }
 ],
 "metadata": {
  "kernelspec": {
   "display_name": "base",
   "language": "python",
   "name": "python3"
  },
  "language_info": {
   "codemirror_mode": {
    "name": "ipython",
    "version": 3
   },
   "file_extension": ".py",
   "mimetype": "text/x-python",
   "name": "python",
   "nbconvert_exporter": "python",
   "pygments_lexer": "ipython3",
   "version": "3.11.5"
  }
 },
 "nbformat": 4,
 "nbformat_minor": 2
}
